{
 "cells": [
  {
   "cell_type": "code",
   "execution_count": 9,
   "metadata": {},
   "outputs": [
    {
     "ename": "LoadError",
     "evalue": "LoadError: UndefVarError: `libsealc` not defined\nin expression starting at /Users/onurerenarpaci/Desktop/isleaked/seal.jl:3",
     "output_type": "error",
     "traceback": [
      "LoadError: UndefVarError: `libsealc` not defined\n",
      "in expression starting at /Users/onurerenarpaci/Desktop/isleaked/seal.jl:3\n",
      "\n",
      "Stacktrace:\n",
      " [1] EncryptionParameters(scheme::SEAL.SchemeType.SchemeTypeEnum)\n",
      "   @ SEAL ~/.julia/packages/SEAL/xhyRr/src/encryptionparams.jl:28\n",
      " [2] top-level scope\n",
      "   @ ~/Desktop/isleaked/seal.jl:3"
     ]
    }
   ],
   "source": [
    "include(\"seal.jl\")"
   ]
  },
  {
   "cell_type": "code",
   "execution_count": null,
   "metadata": {
    "vscode": {
     "languageId": "python"
    }
   },
   "outputs": [],
   "source": [
    "print_parameters(ctx)"
   ]
  }
 ],
 "metadata": {
  "kernelspec": {
   "display_name": "Julia 1.10.0",
   "language": "julia",
   "name": "julia-1.10"
  },
  "language_info": {
   "file_extension": ".jl",
   "mimetype": "application/julia",
   "name": "julia",
   "version": "1.10.0"
  }
 },
 "nbformat": 4,
 "nbformat_minor": 2
}
