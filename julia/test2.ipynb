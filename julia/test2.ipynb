{
 "cells": [
  {
   "cell_type": "code",
   "execution_count": 4,
   "metadata": {},
   "outputs": [
    {
     "name": "stdout",
     "output_type": "stream",
     "text": [
      "enc_mat = Ciphertext(Ptr{Nothing} @0x000000000a769730)\n"
     ]
    },
    {
     "data": {
      "text/plain": [
       "4096-element Vector{UInt64}:\n",
       " 0x0000000000000002\n",
       " 0x0000000000000004\n",
       " 0x0000000000000006\n",
       " 0x0000000000000008\n",
       " 0x000000000000000a\n",
       " 0x000000000000000c\n",
       " 0x000000000000000e\n",
       " 0x0000000000000010\n",
       " 0x0000000000000012\n",
       " 0x0000000000000014\n",
       "                  ⋮\n",
       " 0x0000000000001ff0\n",
       " 0x0000000000001ff2\n",
       " 0x0000000000001ff4\n",
       " 0x0000000000001ff6\n",
       " 0x0000000000001ff8\n",
       " 0x0000000000001ffa\n",
       " 0x0000000000001ffc\n",
       " 0x0000000000001ffe\n",
       " 0x0000000000002000"
      ]
     },
     "metadata": {},
     "output_type": "display_data"
    }
   ],
   "source": [
    "include(\"seal.jl\")"
   ]
  },
  {
   "cell_type": "code",
   "execution_count": null,
   "metadata": {},
   "outputs": [],
   "source": [
    "print_parameters(ctx)"
   ]
  }
 ],
 "metadata": {
  "kernelspec": {
   "display_name": "Julia 1.10.3",
   "language": "julia",
   "name": "julia-1.10"
  },
  "language_info": {
   "file_extension": ".jl",
   "mimetype": "application/julia",
   "name": "julia",
   "version": "1.10.3"
  }
 },
 "nbformat": 4,
 "nbformat_minor": 2
}
